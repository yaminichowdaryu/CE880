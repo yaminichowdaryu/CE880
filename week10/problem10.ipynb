{
  "cells": [
    {
      "cell_type": "markdown",
      "metadata": {
        "id": "view-in-github",
        "colab_type": "text"
      },
      "source": [
        "<a href=\"https://colab.research.google.com/github/yaminichowdaryu/CE880/blob/main/week10/problem10.ipynb\" target=\"_parent\"><img src=\"https://colab.research.google.com/assets/colab-badge.svg\" alt=\"Open In Colab\"/></a>"
      ]
    },
    {
      "cell_type": "markdown",
      "metadata": {
        "id": "OGcUspCVw4ND"
      },
      "source": [
        "Before you turn this problem in, make sure everything runs as expected. First, **restart the kernel** (in the menubar, select Kernel$\\rightarrow$Restart) and then **run all cells** (in the menubar, select Cell$\\rightarrow$Run All).\n",
        "\n",
        "Make sure you fill in any place that says `YOUR CODE HERE` or \"YOUR ANSWER HERE\", as well as your name and collaborators below:"
      ]
    },
    {
      "cell_type": "code",
      "execution_count": null,
      "metadata": {
        "id": "wHcxTNoUw4NF"
      },
      "outputs": [],
      "source": [
        "NAME = \"\"\n",
        "COLLABORATORS = \"\""
      ]
    },
    {
      "cell_type": "markdown",
      "metadata": {
        "id": "IbipSKsBw4NH"
      },
      "source": [
        "---"
      ]
    },
    {
      "cell_type": "markdown",
      "metadata": {
        "id": "ot9hu49Qw4NH"
      },
      "source": [
        "---\n",
        "# Welcome to CE880\n",
        "### This is your week-10 : Problem notebook\n",
        "\n",
        "`10-fold cross-validation` is a common technique used in machine learning to assess the performance of a predictive model. In this method, the dataset is randomly partitioned into 10 equal-sized folds. The model is trained and evaluated 10 times, each time using a different fold as the validation set and the remaining 9 folds as the training set. This process ensures that each data point is used for validation exactly once."
      ]
    },
    {
      "cell_type": "markdown",
      "metadata": {
        "id": "-G-UVuLAw4NI"
      },
      "source": [
        "---\n",
        "## Question 1:\n",
        "\n",
        "Write a function to perform 10-fold cross-validation to evaluate the performance of a predictive model and return meam accuracy. You are free to use the following two function:\n",
        "\n",
        " * `from sklearn.model_selection import KFold`\n",
        " * `from sklearn.metrics import accuracy_score`\n",
        "\n",
        " In the test cells, we have loaded two datasets for you: 1) iris data `load_iris` and training a `RandomForestClassifier`; and 2) Breast cancer data `load_breast_cancer` and training a `SVC`.\n",
        " So, create function `cross_validation(model, X, y, n_splits=10)` keep test cells mind."
      ]
    },
    {
      "cell_type": "code",
      "execution_count": null,
      "metadata": {
        "deletable": false,
        "nbgrader": {
          "cell_type": "code",
          "checksum": "57082862ff4a31f701d663191b38883c",
          "grade": false,
          "grade_id": "my_model_ans",
          "locked": false,
          "schema_version": 3,
          "solution": true,
          "task": false
        },
        "id": "s1DMZ_ylw4NI"
      },
      "outputs": [],
      "source": [
        "from sklearn.model_selection import KFold\n",
        "from sklearn.metrics import accuracy_score\n",
        "\n",
        "def cross_validation(model, X, y, n_splits=10):\n",
        "    \"\"\"\n",
        "    Perform 10-fold cross-validation to evaluate the performance of a predictive model.\n",
        "\n",
        "    Parameters:\n",
        "    - model: Machine learning model to be evaluated.\n",
        "    - X (numpy.ndarray): Feature data.\n",
        "    - y (numpy.ndarray): Target labels.\n",
        "    - n_splits (int): Number of splits for cross-validation.\n",
        "\n",
        "    Returns:\n",
        "    - mean_accuracy (float): Mean accuracy across all folds.\n",
        "    \"\"\"\n",
        "    # YOUR CODE HERE\n",
        "    raise NotImplementedError()"
      ]
    },
    {
      "cell_type": "code",
      "execution_count": null,
      "metadata": {
        "deletable": false,
        "editable": false,
        "nbgrader": {
          "cell_type": "code",
          "checksum": "f0b3b107d8471eef4b5dfd22852bf451",
          "grade": true,
          "grade_id": "my_model_test_RF",
          "locked": true,
          "points": 4,
          "schema_version": 3,
          "solution": false,
          "task": false
        },
        "id": "FRq0CfpWw4NJ"
      },
      "outputs": [],
      "source": [
        "# Check you solution by running this cell Test case 1: this cell of 4 marks\n",
        "import math\n",
        "from sklearn.datasets import load_iris\n",
        "from sklearn.ensemble import RandomForestClassifier\n",
        "\n",
        "# Load Iris dataset\n",
        "iris = load_iris()\n",
        "X = iris.data\n",
        "y = iris.target\n",
        "\n",
        "# Initialize a Random Forest classifier\n",
        "model = RandomForestClassifier(n_estimators=100, random_state=42)\n",
        "\n",
        "# Perform 10-fold cross-validation\n",
        "mean_accuracy = cross_validation(model, X, y)\n",
        "\n",
        "print(\"Mean Accuracy:\", mean_accuracy)\n",
        "\n",
        "assert math.isclose(mean_accuracy, 0.96, rel_tol = 0.01)"
      ]
    },
    {
      "cell_type": "code",
      "execution_count": null,
      "metadata": {
        "deletable": false,
        "editable": false,
        "nbgrader": {
          "cell_type": "code",
          "checksum": "851f3a7381bf6281cfe33a66364f7284",
          "grade": true,
          "grade_id": "my_model_test_SVM",
          "locked": true,
          "points": 5,
          "schema_version": 3,
          "solution": false,
          "task": false
        },
        "id": "6z5TIsAyw4NJ"
      },
      "outputs": [],
      "source": [
        "# Check you solution by running this cell Test case 1: this cell of 5 marks\n",
        "from sklearn.datasets import load_breast_cancer\n",
        "from sklearn.svm import SVC\n",
        "from sklearn.preprocessing import StandardScaler\n",
        "\n",
        "# Load Breast Cancer dataset\n",
        "breast_cancer = load_breast_cancer()\n",
        "X = breast_cancer.data\n",
        "y = breast_cancer.target\n",
        "\n",
        "# Scale the features\n",
        "scaler = StandardScaler()\n",
        "X_scaled = scaler.fit_transform(X)\n",
        "\n",
        "# Initialize a Support Vector Classifier\n",
        "model = SVC(kernel='linear', C=1.0, random_state=42)\n",
        "\n",
        "# Perform 10-fold cross-validation\n",
        "mean_accuracy = cross_validation(model, X_scaled, y)\n",
        "print(\"Mean Accuracy:\", mean_accuracy)\n",
        "\n",
        "assert math.isclose(mean_accuracy, 0.97, rel_tol = 0.01)"
      ]
    }
  ],
  "metadata": {
    "kernelspec": {
      "display_name": "Python 3",
      "language": "python",
      "name": "python3"
    },
    "language_info": {
      "codemirror_mode": {
        "name": "ipython",
        "version": 3
      },
      "file_extension": ".py",
      "mimetype": "text/x-python",
      "name": "python",
      "nbconvert_exporter": "python",
      "pygments_lexer": "ipython3",
      "version": "3.7.11"
    },
    "colab": {
      "provenance": [],
      "include_colab_link": true
    }
  },
  "nbformat": 4,
  "nbformat_minor": 0
}